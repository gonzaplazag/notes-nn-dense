{
 "cells": [
  {
   "cell_type": "code",
   "execution_count": 2,
   "metadata": {},
   "outputs": [],
   "source": [
    "# Ejemplo de clasificación de imagenes con TF\n",
    "# Se introduce el dataset fashion-mnist como dataset de trabajo.\n",
    "# Se introducen las redes densas (Dense, Full Connected)"
   ]
  },
  {
   "cell_type": "code",
   "execution_count": 6,
   "metadata": {},
   "outputs": [
    {
     "name": "stdout",
     "output_type": "stream",
     "text": [
      "tensorflow version: 2.17.0\n",
      "numpy version: 1.26.4\n",
      "keras version: 3.6.0\n"
     ]
    }
   ],
   "source": [
    "import tensorflow as tf\n",
    "import keras\n",
    "import os\n",
    "from dotenv import load_dotenv\n",
    "import numpy as np\n",
    "import matplotlib.pyplot as plt\n",
    "\n",
    "load_dotenv()\n",
    "\n",
    "print(f'tensorflow version: {tf.__version__}')\n",
    "print(f'numpy version: {np.__version__}')\n",
    "print(f'keras version: {keras.__version__}')"
   ]
  },
  {
   "cell_type": "code",
   "execution_count": 7,
   "metadata": {},
   "outputs": [],
   "source": [
    "# --------------------------------\n",
    "# Load\n",
    "# --------------------------------\n",
    "\n",
    "fmnist = tf.keras.datasets.fashion_mnist\n",
    "(x_train, y_train), (x_test, y_test) = fmnist.load_data()"
   ]
  },
  {
   "cell_type": "code",
   "execution_count": 12,
   "metadata": {},
   "outputs": [
    {
     "data": {
      "text/plain": [
       "(60000, 28, 28)"
      ]
     },
     "execution_count": 12,
     "metadata": {},
     "output_type": "execute_result"
    }
   ],
   "source": [
    "# 60k imagenes de 28x28 pixeles\n",
    "x_train.shape"
   ]
  },
  {
   "cell_type": "code",
   "execution_count": 18,
   "metadata": {},
   "outputs": [
    {
     "name": "stdout",
     "output_type": "stream",
     "text": [
      "Index: 79\n",
      "Label: 9\n",
      "[[0.         0.         0.         0.         0.         0.\n",
      "  0.         0.         0.         0.         0.         0.\n",
      "  0.         0.         0.         0.         0.         0.\n",
      "  0.         0.         0.         0.         0.         0.\n",
      "  0.         0.         0.         0.        ]\n",
      " [0.         0.         0.         0.         0.         0.\n",
      "  0.         0.         0.         0.         0.         0.\n",
      "  0.         0.         0.         0.         0.         0.\n",
      "  0.         0.         0.         0.         0.         0.\n",
      "  0.         0.         0.         0.        ]\n",
      " [0.         0.         0.         0.         0.         0.\n",
      "  0.         0.         0.         0.         0.         0.\n",
      "  0.         0.         0.         0.         0.00392157 0.00392157\n",
      "  0.00784314 0.         0.         0.         0.         0.13333333\n",
      "  0.10980392 0.         0.01568627 0.        ]\n",
      " [0.         0.         0.         0.         0.         0.\n",
      "  0.         0.         0.00392157 0.00784314 0.         0.01960784\n",
      "  0.04313725 0.00784314 0.01176471 0.         0.         0.\n",
      "  0.         0.         0.         0.13333333 0.56078431 0.9372549\n",
      "  0.69803922 0.         0.         0.        ]\n",
      " [0.         0.         0.         0.         0.         0.\n",
      "  0.         0.         0.         0.         0.         0.\n",
      "  0.         0.         0.         0.         0.         0.\n",
      "  0.17254902 0.56862745 0.91372549 0.93333333 0.96470588 0.89803922\n",
      "  0.86666667 0.         0.         0.        ]\n",
      " [0.         0.         0.         0.         0.         0.\n",
      "  0.         0.         0.         0.00784314 0.         0.3254902\n",
      "  0.52156863 0.54901961 0.59215686 0.67843137 0.87843137 1.\n",
      "  0.9372549  0.94509804 0.92941176 0.87843137 0.86666667 0.85490196\n",
      "  0.96470588 0.44313725 0.         0.        ]\n",
      " [0.         0.         0.         0.         0.         0.\n",
      "  0.         0.         0.00392157 0.01568627 0.         0.65882353\n",
      "  0.94509804 0.90588235 0.9254902  0.92941176 0.90980392 0.88235294\n",
      "  0.86666667 0.8627451  0.8745098  0.89019608 0.89019608 0.87843137\n",
      "  0.87843137 0.97647059 0.         0.        ]\n",
      " [0.         0.         0.         0.         0.         0.\n",
      "  0.         0.         0.         0.         0.         0.7254902\n",
      "  0.84313725 0.82352941 0.83921569 0.81568627 0.84705882 0.87843137\n",
      "  0.89019608 0.89019608 0.89019608 0.88235294 0.87843137 0.88627451\n",
      "  0.8627451  0.95686275 0.40392157 0.        ]\n",
      " [0.         0.         0.         0.         0.         0.\n",
      "  0.         0.         0.00784314 0.         0.05098039 0.80784314\n",
      "  0.85490196 0.84705882 0.8627451  0.85882353 0.87058824 0.87843137\n",
      "  0.88235294 0.88627451 0.88627451 0.89019608 0.90196078 0.89411765\n",
      "  0.87843137 0.89803922 0.95686275 0.        ]\n",
      " [0.         0.         0.         0.         0.         0.\n",
      "  0.         0.         0.02352941 0.         0.11764706 0.87058824\n",
      "  0.83137255 0.8745098  0.8627451  0.8627451  0.87058824 0.87843137\n",
      "  0.88235294 0.88627451 0.88627451 0.89019608 0.87843137 0.89803922\n",
      "  0.85882353 0.87843137 1.         0.23137255]\n",
      " [0.         0.         0.         0.         0.         0.\n",
      "  0.         0.         0.00392157 0.         0.3254902  0.87843137\n",
      "  0.83529412 0.88235294 0.86666667 0.86666667 0.8745098  0.88235294\n",
      "  0.88235294 0.89019608 0.88627451 0.89019608 0.89411765 0.87843137\n",
      "  0.88235294 0.88235294 1.         0.55686275]\n",
      " [0.         0.         0.         0.         0.         0.\n",
      "  0.         0.         0.         0.         0.57647059 0.87843137\n",
      "  0.83921569 0.88627451 0.88235294 0.87058824 0.8745098  0.88235294\n",
      "  0.88235294 0.87843137 0.88627451 0.89411765 0.89411765 0.89019608\n",
      "  0.89411765 0.88627451 0.9372549  0.76470588]\n",
      " [0.         0.         0.         0.         0.00392157 0.\n",
      "  0.         0.00392157 0.         0.         0.78431373 0.83921569\n",
      "  0.80392157 0.85490196 0.8745098  0.8745098  0.87058824 0.89019608\n",
      "  0.89019608 0.88627451 0.87843137 0.88235294 0.89019608 0.89019608\n",
      "  0.89803922 0.89803922 0.94117647 0.76862745]\n",
      " [0.         0.         0.         0.         0.         0.01176471\n",
      "  0.00392157 0.01176471 0.         0.01960784 0.96862745 0.78823529\n",
      "  0.78431373 0.83529412 0.85098039 0.88627451 0.88627451 0.88627451\n",
      "  0.88235294 0.89019608 0.88627451 0.87843137 0.83137255 0.83137255\n",
      "  0.86666667 0.88235294 1.         0.45098039]\n",
      " [0.         0.         0.         0.         0.         0.00392157\n",
      "  0.         0.01568627 0.         0.32941176 0.85490196 0.81568627\n",
      "  0.86666667 0.84705882 0.84705882 0.89411765 0.89411765 0.8745098\n",
      "  0.87058824 0.89411765 0.87843137 0.85882353 1.         1.\n",
      "  0.92156863 0.85490196 1.         0.10196078]\n",
      " [0.         0.         0.         0.         0.         0.\n",
      "  0.00784314 0.         0.         0.72156863 0.79215686 0.81176471\n",
      "  0.87843137 0.83529412 0.81960784 0.8627451  0.89411765 0.88235294\n",
      "  0.89411765 0.85490196 0.91372549 1.         0.65882353 0.4\n",
      "  0.82745098 0.92941176 0.81176471 0.        ]\n",
      " [0.00392157 0.         0.         0.         0.01960784 0.01176471\n",
      "  0.01568627 0.         0.29019608 0.92941176 0.75686275 0.87843137\n",
      "  0.78823529 0.76862745 0.94117647 0.94117647 0.95686275 0.85098039\n",
      "  0.84705882 0.94117647 0.89411765 0.10980392 0.         0.\n",
      "  0.08235294 0.99215686 0.6745098  0.        ]\n",
      " [0.         0.         0.         0.         0.         0.\n",
      "  0.         0.12941176 0.91764706 0.82352941 0.79215686 0.85490196\n",
      "  0.88235294 0.87058824 0.89019608 0.74509804 0.69411765 0.88627451\n",
      "  0.94117647 0.73333333 0.         0.         0.         0.\n",
      "  0.03921569 0.98431373 0.54117647 0.        ]\n",
      " [0.         0.         0.         0.         0.         0.\n",
      "  0.40392157 0.9372549  0.83921569 0.74901961 0.80392157 0.87843137\n",
      "  0.8745098  0.89803922 0.83529412 0.83529412 0.74117647 0.94509804\n",
      "  0.59607843 0.         0.         0.00784314 0.00392157 0.\n",
      "  0.03529412 0.98039216 0.4        0.        ]\n",
      " [0.         0.01568627 0.         0.47843137 0.89411765 0.78039216\n",
      "  0.94901961 0.80784314 0.79607843 0.82745098 0.80784314 0.87843137\n",
      "  0.85098039 0.86666667 0.75686275 0.83137255 0.96862745 0.59215686\n",
      "  0.         0.         0.         0.         0.00392157 0.\n",
      "  0.00784314 0.96470588 0.29019608 0.        ]\n",
      " [0.         0.         0.         0.69411765 0.87058824 0.77254902\n",
      "  0.74509804 0.81960784 0.81568627 0.81960784 0.86666667 0.87058824\n",
      "  0.90588235 0.89019608 0.85882353 0.90980392 0.71372549 0.\n",
      "  0.         0.         0.         0.         0.01568627 0.\n",
      "  0.         0.91764706 0.25882353 0.        ]\n",
      " [0.         0.         0.04705882 0.78431373 0.79215686 0.8\n",
      "  0.83137255 0.80784314 0.82745098 0.87058824 0.86666667 0.89019608\n",
      "  0.88235294 0.85490196 0.90196078 0.89803922 0.         0.\n",
      "  0.         0.         0.         0.         0.01176471 0.\n",
      "  0.         0.85882353 0.14509804 0.        ]\n",
      " [0.30588235 0.85490196 0.77647059 0.81568627 0.80784314 0.81960784\n",
      "  0.80392157 0.82745098 0.85490196 0.87843137 0.89411765 0.88235294\n",
      "  0.85490196 0.86666667 0.88627451 0.11764706 0.         0.02745098\n",
      "  0.         0.         0.         0.         0.00784314 0.\n",
      "  0.         0.83529412 0.12941176 0.        ]\n",
      " [0.         0.51372549 0.83529412 0.9372549  0.91764706 0.88627451\n",
      "  0.85882353 0.83137255 0.83921569 0.80784314 0.83137255 0.83529412\n",
      "  0.89019608 0.91372549 0.33333333 0.         0.         0.\n",
      "  0.         0.         0.         0.         0.00392157 0.\n",
      "  0.         0.80392157 0.20784314 0.        ]\n",
      " [0.         0.         0.         0.38431373 0.69019608 0.88235294\n",
      "  1.         1.         1.         1.         0.91764706 0.92156863\n",
      "  0.98431373 0.30980392 0.         0.         0.         0.00392157\n",
      "  0.         0.         0.         0.         0.         0.\n",
      "  0.         0.81568627 0.17254902 0.        ]\n",
      " [0.         0.         0.         0.         0.         0.\n",
      "  0.05098039 0.2        0.25882353 0.29019608 0.29411765 0.24705882\n",
      "  0.         0.         0.         0.         0.         0.\n",
      "  0.         0.         0.         0.         0.         0.\n",
      "  0.         0.40392157 0.03529412 0.        ]\n",
      " [0.         0.         0.         0.         0.         0.\n",
      "  0.         0.         0.         0.         0.         0.\n",
      "  0.         0.         0.         0.         0.         0.\n",
      "  0.         0.         0.         0.         0.         0.\n",
      "  0.         0.         0.         0.        ]\n",
      " [0.         0.         0.         0.         0.         0.\n",
      "  0.         0.         0.         0.         0.         0.\n",
      "  0.         0.         0.         0.         0.         0.\n",
      "  0.         0.         0.         0.         0.         0.\n",
      "  0.         0.         0.         0.        ]]\n"
     ]
    },
    {
     "data": {
      "image/png": "[encoded data removed]",
      "text/plain": [
       "<Figure size 640x480 with 1 Axes>"
      ]
     },
     "metadata": {},
     "output_type": "display_data"
    }
   ],
   "source": [
    "# --------------------------------\n",
    "# Show\n",
    "# --------------------------------\n",
    "INDEX = np.random.randint(100)\n",
    "\n",
    "# 0 T-shirt/top\n",
    "# 1 Trouser\n",
    "# 2 Pullover\n",
    "# 3 Dress\n",
    "# 4 Coat\n",
    "# 5 Sandal\n",
    "# 6 Shirt\n",
    "# 7 Sneaker\n",
    "# 8 Bag\n",
    "# 9 Ankle boot\n",
    "print(f'Index: {INDEX}')\n",
    "print(f'Label: {y_train[INDEX]}')\n",
    "print(x_train[INDEX])\n",
    "plt.imshow(x_train[INDEX], cmap='binary')\n",
    "plt.show()"
   ]
  },
  {
   "cell_type": "code",
   "execution_count": 10,
   "metadata": {},
   "outputs": [],
   "source": [
    "# --------------------------------\n",
    "# Preprocessing\n",
    "# --------------------------------\n",
    "\n",
    "# divide by 255 to normalize\n",
    "x_train, x_test = x_train/255, x_test/255"
   ]
  },
  {
   "cell_type": "code",
   "execution_count": 19,
   "metadata": {},
   "outputs": [
    {
     "name": "stderr",
     "output_type": "stream",
     "text": [
      "/home/gonzalo/.virtualenvs/genv/lib/python3.10/site-packages/keras/src/layers/reshaping/flatten.py:37: UserWarning: Do not pass an `input_shape`/`input_dim` argument to a layer. When using Sequential models, prefer using an `Input(shape)` object as the first layer in the model instead.\n",
      "  super().__init__(**kwargs)\n"
     ]
    }
   ],
   "source": [
    "# --------------------------------\n",
    "# Define Model\n",
    "# --------------------------------\n",
    "\n",
    "model = tf.keras.models.Sequential([\n",
    "    tf.keras.layers.Flatten(input_shape=(28,28)),\n",
    "    tf.keras.layers.Dense(128, activation=tf.nn.relu),\n",
    "    tf.keras.layers.Dense(10, activation=tf.nn.softmax)\n",
    "])\n",
    "\n",
    "# compile\n",
    "model.compile(optimizer=tf._optimizers.Adam(),\n",
    "              loss='sparse_categorical_crossentropy', \n",
    "              metrics=['accuracy'])\n",
    "\n",
    "# sparse_categorical_crossentropy:\n",
    "# 1. labels are integers (not one-hot encoded)\n",
    "# 2. Typical for multiclass classification\n",
    "# 3. Based on cross-entropy. \n",
    "# 4. Como softmax genera probabilidades, cross-entropy calcula, para la probabilidad predicha de la true-label segun trainning-labels\n",
    "#    loss = -log(y_c). Con esto, si la prob. fuera 1, loss = 0. Penaliza bajas probabilidades para la clase verdadera. "
   ]
  },
  {
   "cell_type": "code",
   "execution_count": 20,
   "metadata": {},
   "outputs": [
    {
     "name": "stdout",
     "output_type": "stream",
     "text": [
      "\n",
      "MODEL TRAINING:\n",
      "Epoch 1/10\n",
      "\u001b[1m1875/1875\u001b[0m \u001b[32m━━━━━━━━━━━━━━━━━━━━\u001b[0m\u001b[37m\u001b[0m \u001b[1m4s\u001b[0m 2ms/step - accuracy: 0.7841 - loss: 0.6264\n",
      "Epoch 2/10\n",
      "\u001b[1m1875/1875\u001b[0m \u001b[32m━━━━━━━━━━━━━━━━━━━━\u001b[0m\u001b[37m\u001b[0m \u001b[1m4s\u001b[0m 2ms/step - accuracy: 0.8627 - loss: 0.3803\n",
      "Epoch 3/10\n",
      "\u001b[1m1875/1875\u001b[0m \u001b[32m━━━━━━━━━━━━━━━━━━━━\u001b[0m\u001b[37m\u001b[0m \u001b[1m3s\u001b[0m 2ms/step - accuracy: 0.8735 - loss: 0.3390\n",
      "Epoch 4/10\n",
      "\u001b[1m1875/1875\u001b[0m \u001b[32m━━━━━━━━━━━━━━━━━━━━\u001b[0m\u001b[37m\u001b[0m \u001b[1m3s\u001b[0m 2ms/step - accuracy: 0.8840 - loss: 0.3128\n",
      "Epoch 5/10\n",
      "\u001b[1m1875/1875\u001b[0m \u001b[32m━━━━━━━━━━━━━━━━━━━━\u001b[0m\u001b[37m\u001b[0m \u001b[1m3s\u001b[0m 2ms/step - accuracy: 0.8898 - loss: 0.2969\n",
      "Epoch 6/10\n",
      "\u001b[1m1875/1875\u001b[0m \u001b[32m━━━━━━━━━━━━━━━━━━━━\u001b[0m\u001b[37m\u001b[0m \u001b[1m3s\u001b[0m 2ms/step - accuracy: 0.8965 - loss: 0.2834\n",
      "Epoch 7/10\n",
      "\u001b[1m1875/1875\u001b[0m \u001b[32m━━━━━━━━━━━━━━━━━━━━\u001b[0m\u001b[37m\u001b[0m \u001b[1m3s\u001b[0m 2ms/step - accuracy: 0.8986 - loss: 0.2675\n",
      "Epoch 8/10\n",
      "\u001b[1m1875/1875\u001b[0m \u001b[32m━━━━━━━━━━━━━━━━━━━━\u001b[0m\u001b[37m\u001b[0m \u001b[1m3s\u001b[0m 2ms/step - accuracy: 0.9057 - loss: 0.2559\n",
      "Epoch 9/10\n",
      "\u001b[1m1875/1875\u001b[0m \u001b[32m━━━━━━━━━━━━━━━━━━━━\u001b[0m\u001b[37m\u001b[0m \u001b[1m3s\u001b[0m 2ms/step - accuracy: 0.9082 - loss: 0.2432\n",
      "Epoch 10/10\n",
      "\u001b[1m1875/1875\u001b[0m \u001b[32m━━━━━━━━━━━━━━━━━━━━\u001b[0m\u001b[37m\u001b[0m \u001b[1m3s\u001b[0m 2ms/step - accuracy: 0.9101 - loss: 0.2395\n",
      "\n",
      "MODEL EVALUATION:\n",
      "\u001b[1m313/313\u001b[0m \u001b[32m━━━━━━━━━━━━━━━━━━━━\u001b[0m\u001b[37m\u001b[0m \u001b[1m0s\u001b[0m 1ms/step - accuracy: 0.8726 - loss: 0.3625\n"
     ]
    }
   ],
   "source": [
    "# --------------------------------\n",
    "# Train\n",
    "# --------------------------------\n",
    "print(f'\\nMODEL TRAINING:')\n",
    "model.fit(x_train, y_train, epochs=10)"
   ]
  },
  {
   "cell_type": "code",
   "execution_count": 30,
   "metadata": {},
   "outputs": [
    {
     "name": "stdout",
     "output_type": "stream",
     "text": [
      "\n",
      "MODEL EVALUATION:\n",
      "\u001b[1m313/313\u001b[0m \u001b[32m━━━━━━━━━━━━━━━━━━━━\u001b[0m\u001b[37m\u001b[0m \u001b[1m0s\u001b[0m 1ms/step - accuracy: 0.8725 - loss: 0.3624\n",
      "LOSS: 0.35786956548690796\n",
      "ACCURACY: 0.8723000288009644\n"
     ]
    }
   ],
   "source": [
    "# --------------------------------\n",
    "# EVALUATION\n",
    "# --------------------------------\n",
    "print(f'\\nMODEL EVALUATION:')\n",
    "eval_results = model.evaluate(x_test, y_test, return_dict=True)\n",
    "print(f'LOSS: {eval_results[\"loss\"]}')\n",
    "print(f'ACCURACY: {eval_results[\"accuracy\"]}')"
   ]
  }
 ],
 "metadata": {
  "kernelspec": {
   "display_name": "genv",
   "language": "python",
   "name": "python3"
  },
  "language_info": {
   "codemirror_mode": {
    "name": "ipython",
    "version": 3
   },
   "file_extension": ".py",
   "mimetype": "text/x-python",
   "name": "python",
   "nbconvert_exporter": "python",
   "pygments_lexer": "ipython3",
   "version": "3.10.12"
  }
 },
 "nbformat": 4,
 "nbformat_minor": 2
}
